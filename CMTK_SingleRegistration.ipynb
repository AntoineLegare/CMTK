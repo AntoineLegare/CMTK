{
 "cells": [
  {
   "cell_type": "code",
   "execution_count": 1,
   "metadata": {},
   "outputs": [],
   "source": [
    "from Classes import *\n",
    "from Functions import *\n",
    "from ipywidgets import interact, fixed, Dropdown\n",
    "from IPython.display import clear_output"
   ]
  },
  {
   "cell_type": "markdown",
   "metadata": {},
   "source": [
    "# Registration: Z-Stack on Atlas"
   ]
  },
  {
   "cell_type": "markdown",
   "metadata": {},
   "source": [
    "#### Enter image parameters:"
   ]
  },
  {
   "cell_type": "code",
   "execution_count": 2,
   "metadata": {},
   "outputs": [],
   "source": [
    "mainPath = '/home/tonepone/Documents/CMTK/Main/'\n",
    "filenameMoving = 'isoStack_adjusted.nrrd'\n",
    "filenameFixed = 'atlas_cropped.nrrd'\n",
    "spacingFixed = (0.798, 0.798, 2)\n",
    "spacingMoving = (0.455, 0.294, 2)\n",
    "scaleFixed = 1\n",
    "scaleMoving = 1\n",
    "makeGif = False"
   ]
  },
  {
   "cell_type": "markdown",
   "metadata": {},
   "source": [
    "# 1. Loading/Resizing Images"
   ]
  },
  {
   "cell_type": "code",
   "execution_count": 3,
   "metadata": {},
   "outputs": [],
   "source": [
    "workspace = Path(mainPath, 'Rapport')\n",
    "workspace.createFolders()\n",
    "setWorkspace(workspace)"
   ]
  },
  {
   "cell_type": "code",
   "execution_count": 4,
   "metadata": {},
   "outputs": [],
   "source": [
    "fixedImage = Image(filenameFixed, spacingFixed)\n",
    "movingImage = Image(filenameMoving, spacingMoving)"
   ]
  },
  {
   "cell_type": "code",
   "execution_count": 5,
   "metadata": {},
   "outputs": [],
   "source": [
    "fixedImage.changeScale(scaleFixed)\n",
    "movingImage.changeScale(scaleMoving)"
   ]
  },
  {
   "cell_type": "code",
   "execution_count": 6,
   "metadata": {
    "scrolled": false
   },
   "outputs": [],
   "source": [
    "fixedImage.save('fixed.nrrd')\n",
    "movingImage.save('moving.nrrd')"
   ]
  },
  {
   "cell_type": "code",
   "execution_count": 7,
   "metadata": {
    "scrolled": false
   },
   "outputs": [
    {
     "data": {
      "application/vnd.jupyter.widget-view+json": {
       "model_id": "ae3d698cb33d4c14af93134834fdbcb9",
       "version_major": 2,
       "version_minor": 0
      },
      "text/plain": [
       "interactive(children=(IntSlider(value=68, description='fixedZ', max=137), IntSlider(value=90, description='mov…"
      ]
     },
     "metadata": {},
     "output_type": "display_data"
    }
   ],
   "source": [
    "interact(displayImages, fixedZ=(0,fixedImage.shape[2]-1), movingZ=(0,movingImage.shape[2]-1), fixed=fixed(fixedImage), moving=fixed(movingImage));"
   ]
  },
  {
   "cell_type": "markdown",
   "metadata": {},
   "source": [
    "## 2. Initial Alignment"
   ]
  },
  {
   "cell_type": "code",
   "execution_count": 8,
   "metadata": {},
   "outputs": [],
   "source": [
    "cmtk = CMTK()"
   ]
  },
  {
   "cell_type": "code",
   "execution_count": 9,
   "metadata": {},
   "outputs": [],
   "source": [
    "cmtk.alignImages()"
   ]
  },
  {
   "cell_type": "code",
   "execution_count": 10,
   "metadata": {},
   "outputs": [],
   "source": [
    "cmtk.computeScaleAndTranslation(fixedImage, movingImage, customScale=[2,2])\n",
    "cmtk.scaleInitialXFormFile()"
   ]
  },
  {
   "cell_type": "code",
   "execution_count": 11,
   "metadata": {},
   "outputs": [],
   "source": [
    "cmtk.reformat('initial')"
   ]
  },
  {
   "cell_type": "code",
   "execution_count": 12,
   "metadata": {},
   "outputs": [],
   "source": [
    "reformatInitial = Image.load(workspace.imgFolder, 'reformatInitial.nrrd')"
   ]
  },
  {
   "cell_type": "code",
   "execution_count": 13,
   "metadata": {
    "scrolled": false
   },
   "outputs": [
    {
     "data": {
      "application/vnd.jupyter.widget-view+json": {
       "model_id": "b7eed079e45e48bc91d165b79e6ce2fd",
       "version_major": 2,
       "version_minor": 0
      },
      "text/plain": [
       "interactive(children=(IntSlider(value=68, description='z', max=137), FloatSlider(value=0.5, description='alpha…"
      ]
     },
     "metadata": {},
     "output_type": "display_data"
    }
   ],
   "source": [
    "interact(blendImages, z=(0,fixedImage.shape[2]-1), alpha=(0.0,1.0,0.05), im1=fixed(fixedImage), im2=fixed(reformatInitial));"
   ]
  },
  {
   "cell_type": "markdown",
   "metadata": {},
   "source": [
    "## 3. Registration"
   ]
  },
  {
   "cell_type": "code",
   "execution_count": 14,
   "metadata": {},
   "outputs": [
    {
     "name": "stdout",
     "output_type": "stream",
     "text": [
      "Registration time: 44.216039419174194 seconds.\n"
     ]
    }
   ],
   "source": [
    "cmtk.registration()\n",
    "print('Registration time: {} seconds.'.format(cmtk.registrationTime))"
   ]
  },
  {
   "cell_type": "code",
   "execution_count": 15,
   "metadata": {},
   "outputs": [],
   "source": [
    "cmtk.reformat('registered')"
   ]
  },
  {
   "cell_type": "code",
   "execution_count": 16,
   "metadata": {},
   "outputs": [],
   "source": [
    "reformatReg = Image.load(workspace.imgFolder,'reformatReg.nrrd')"
   ]
  },
  {
   "cell_type": "code",
   "execution_count": 17,
   "metadata": {
    "scrolled": false
   },
   "outputs": [
    {
     "data": {
      "application/vnd.jupyter.widget-view+json": {
       "model_id": "74ea23096a044dcfa22c8d1124ef73a4",
       "version_major": 2,
       "version_minor": 0
      },
      "text/plain": [
       "interactive(children=(IntSlider(value=68, description='z', max=137), FloatSlider(value=0.5, description='alpha…"
      ]
     },
     "metadata": {},
     "output_type": "display_data"
    }
   ],
   "source": [
    "interact(blendImages, z=(0,fixedImage.array.shape[2]-1), alpha=(0.0,1.0,0.05), im1=fixed(fixedImage), im2=fixed(reformatReg));"
   ]
  },
  {
   "cell_type": "markdown",
   "metadata": {},
   "source": [
    "## 4. Warp"
   ]
  },
  {
   "cell_type": "code",
   "execution_count": 65,
   "metadata": {},
   "outputs": [
    {
     "name": "stdout",
     "output_type": "stream",
     "text": [
      "Warp time: 181.3968427181244 seconds.\n"
     ]
    }
   ],
   "source": [
    "cmtk.warp()\n",
    "print('Warp time: {} seconds.'.format(cmtk.warpTime))"
   ]
  },
  {
   "cell_type": "code",
   "execution_count": 66,
   "metadata": {},
   "outputs": [],
   "source": [
    "cmtk.reformat('warped')"
   ]
  },
  {
   "cell_type": "code",
   "execution_count": 67,
   "metadata": {
    "scrolled": false
   },
   "outputs": [],
   "source": [
    "reformatWarp = Image.load(workspace.imgFolder,'reformatWarp.nrrd')"
   ]
  },
  {
   "cell_type": "code",
   "execution_count": 68,
   "metadata": {},
   "outputs": [
    {
     "data": {
      "application/vnd.jupyter.widget-view+json": {
       "model_id": "6d21a4e582c545a7a8ef18bfac51695b",
       "version_major": 2,
       "version_minor": 0
      },
      "text/plain": [
       "interactive(children=(IntSlider(value=68, description='z', max=137), FloatSlider(value=0.5, description='alpha…"
      ]
     },
     "metadata": {},
     "output_type": "display_data"
    }
   ],
   "source": [
    "interact(blendImages, z=(0,fixedImage.array.shape[2]-1), alpha=(0.0,1.0,0.05), im1=fixed(fixedImage), im2=fixed(reformatWarp));"
   ]
  },
  {
   "cell_type": "code",
   "execution_count": null,
   "metadata": {},
   "outputs": [],
   "source": []
  }
 ],
 "metadata": {
  "kernelspec": {
   "display_name": "Python 3",
   "language": "python",
   "name": "python3"
  },
  "language_info": {
   "codemirror_mode": {
    "name": "ipython",
    "version": 3
   },
   "file_extension": ".py",
   "mimetype": "text/x-python",
   "name": "python",
   "nbconvert_exporter": "python",
   "pygments_lexer": "ipython3",
   "version": "3.7.3"
  }
 },
 "nbformat": 4,
 "nbformat_minor": 1
}
